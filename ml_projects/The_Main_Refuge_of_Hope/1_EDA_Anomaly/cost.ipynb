{
 "cells": [
  {
   "cell_type": "markdown",
   "metadata": {},
   "source": [
    "Блокнот для исследовательского анализа"
   ]
  },
  {
   "cell_type": "code",
   "execution_count": null,
   "metadata": {},
   "outputs": [],
   "source": [
    "cost = pd.read_parquet('/home/an/mlops4/ml_project/The_Main_Refuge_of_Hope/0_get_data/cost.parquet')\n",
    "cost.isna().sum().to_frame().T #нет пропусков"
   ]
  },
  {
   "cell_type": "code",
   "execution_count": null,
   "metadata": {},
   "outputs": [],
   "source": [
    "cost.nunique().to_frame().T #уникальные значения"
   ]
  },
  {
   "cell_type": "code",
   "execution_count": null,
   "metadata": {},
   "outputs": [],
   "source": [
    "cost_elven_anor = cost[(cost['place'] == 'Анор Лондо') & (cost['product'] == \"Эльфийская пыльца\")].set_index('date')#формирую переменную для одной из 15 комбинации\n",
    "result = seasonal_decompose(cost_elven_anor.cost, model='additive', period = 47) #для года не хватает данных\n",
    "result.plot(); #явно тренд,"
   ]
  }
 ],
 "metadata": {
  "language_info": {
   "name": "python"
  },
  "orig_nbformat": 4
 },
 "nbformat": 4,
 "nbformat_minor": 2
}

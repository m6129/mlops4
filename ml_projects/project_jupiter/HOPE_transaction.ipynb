{
 "cells": [
  {
   "cell_type": "code",
   "execution_count": 54,
   "id": "b9eec91d-04dc-48cd-9159-87b9732905b9",
   "metadata": {},
   "outputs": [
    {
     "name": "stdout",
     "output_type": "stream",
     "text": [
      "Collecting sktime\n",
      "  Downloading sktime-0.24.1-py3-none-any.whl.metadata (29 kB)\n",
      "Requirement already satisfied: numpy<1.27,>=1.21 in /opt/conda/lib/python3.11/site-packages (from sktime) (1.24.4)\n",
      "Requirement already satisfied: packaging in /opt/conda/lib/python3.11/site-packages (from sktime) (23.2)\n",
      "Requirement already satisfied: pandas<2.2.0,>=1.1 in /opt/conda/lib/python3.11/site-packages (from sktime) (2.1.1)\n",
      "Collecting scikit-base<0.7.0 (from sktime)\n",
      "  Downloading scikit_base-0.6.1-py3-none-any.whl.metadata (8.7 kB)\n",
      "Requirement already satisfied: scikit-learn<1.4.0,>=0.24 in /opt/conda/lib/python3.11/site-packages (from sktime) (1.3.1)\n",
      "Requirement already satisfied: scipy<2.0.0,>=1.2 in /opt/conda/lib/python3.11/site-packages (from sktime) (1.11.3)\n",
      "Requirement already satisfied: python-dateutil>=2.8.2 in /opt/conda/lib/python3.11/site-packages (from pandas<2.2.0,>=1.1->sktime) (2.8.2)\n",
      "Requirement already satisfied: pytz>=2020.1 in /opt/conda/lib/python3.11/site-packages (from pandas<2.2.0,>=1.1->sktime) (2023.3.post1)\n",
      "Requirement already satisfied: tzdata>=2022.1 in /opt/conda/lib/python3.11/site-packages (from pandas<2.2.0,>=1.1->sktime) (2023.3)\n",
      "Requirement already satisfied: joblib>=1.1.1 in /opt/conda/lib/python3.11/site-packages (from scikit-learn<1.4.0,>=0.24->sktime) (1.3.2)\n",
      "Requirement already satisfied: threadpoolctl>=2.0.0 in /opt/conda/lib/python3.11/site-packages (from scikit-learn<1.4.0,>=0.24->sktime) (3.2.0)\n",
      "Requirement already satisfied: six>=1.5 in /opt/conda/lib/python3.11/site-packages (from python-dateutil>=2.8.2->pandas<2.2.0,>=1.1->sktime) (1.16.0)\n",
      "Downloading sktime-0.24.1-py3-none-any.whl (20.7 MB)\n",
      "\u001b[2K   \u001b[90m━━━━━━━━━━━━━━━━━━━━━━━━━━━━━━━━━━━━━━━━\u001b[0m \u001b[32m20.7/20.7 MB\u001b[0m \u001b[31m4.5 MB/s\u001b[0m eta \u001b[36m0:00:00\u001b[0m00:01\u001b[0m00:01\u001b[0m\n",
      "\u001b[?25hDownloading scikit_base-0.6.1-py3-none-any.whl (122 kB)\n",
      "\u001b[2K   \u001b[90m━━━━━━━━━━━━━━━━━━━━━━━━━━━━━━━━━━━━━━━━\u001b[0m \u001b[32m122.4/122.4 kB\u001b[0m \u001b[31m5.8 MB/s\u001b[0m eta \u001b[36m0:00:00\u001b[0m\n",
      "\u001b[?25hInstalling collected packages: scikit-base, sktime\n",
      "Successfully installed scikit-base-0.6.1 sktime-0.24.1\n"
     ]
    }
   ],
   "source": [
    "import pandas as pd\n",
    "import numpy as np\n",
    "#!pip install catBoost\n",
    "#!pip install sktime\n",
    "from catboost import CatBoostRegressor, CatBoostClassifier\n",
    "import mlflow\n",
    "from sklearn.model_selection import TimeSeriesSplit#разбиение датасета для временного ряда\n",
    "\n",
    "from sklearn.metrics import mean_squared_error,mean_absolute_error #метрики\n",
    "from sktime.performance_metrics.forecasting import  MeanAbsolutePercentageError\n",
    "\n",
    "smape = MeanAbsolutePercentageError(symmetric = True)#метрика sMAPE"
   ]
  },
  {
   "cell_type": "code",
   "execution_count": 2,
   "id": "e0c9cdee-6a34-42f4-a91f-e18241a3315e",
   "metadata": {},
   "outputs": [],
   "source": [
    "transaction = pd.read_parquet('https://github.com/m6129/UrFU_2022_python/raw/main/all_xackatons/GPN2023/transaction_df.parquet')"
   ]
  },
  {
   "cell_type": "code",
   "execution_count": 3,
   "id": "908f8627-1b90-453b-b451-43ace6ff7911",
   "metadata": {},
   "outputs": [
    {
     "data": {
      "text/html": [
       "<div>\n",
       "<style scoped>\n",
       "    .dataframe tbody tr th:only-of-type {\n",
       "        vertical-align: middle;\n",
       "    }\n",
       "\n",
       "    .dataframe tbody tr th {\n",
       "        vertical-align: top;\n",
       "    }\n",
       "\n",
       "    .dataframe thead th {\n",
       "        text-align: right;\n",
       "    }\n",
       "</style>\n",
       "<table border=\"1\" class=\"dataframe\">\n",
       "  <thead>\n",
       "    <tr style=\"text-align: right;\">\n",
       "      <th></th>\n",
       "      <th>product</th>\n",
       "      <th>price</th>\n",
       "      <th>amount</th>\n",
       "      <th>place</th>\n",
       "      <th>datetime</th>\n",
       "    </tr>\n",
       "  </thead>\n",
       "  <tbody>\n",
       "    <tr>\n",
       "      <th>0</th>\n",
       "      <td>Целебные травы</td>\n",
       "      <td>3.90</td>\n",
       "      <td>1.242125</td>\n",
       "      <td>Анор Лондо</td>\n",
       "      <td>2216-01-02 16:28:00</td>\n",
       "    </tr>\n",
       "    <tr>\n",
       "      <th>1</th>\n",
       "      <td>Целебные травы</td>\n",
       "      <td>3.90</td>\n",
       "      <td>-0.079689</td>\n",
       "      <td>Анор Лондо</td>\n",
       "      <td>2216-01-02 16:21:00</td>\n",
       "    </tr>\n",
       "    <tr>\n",
       "      <th>2</th>\n",
       "      <td>Целебные травы</td>\n",
       "      <td>3.90</td>\n",
       "      <td>0.882450</td>\n",
       "      <td>Анор Лондо</td>\n",
       "      <td>2216-01-02 03:03:00</td>\n",
       "    </tr>\n",
       "    <tr>\n",
       "      <th>3</th>\n",
       "      <td>Целебные травы</td>\n",
       "      <td>3.90</td>\n",
       "      <td>0.621377</td>\n",
       "      <td>Анор Лондо</td>\n",
       "      <td>2216-01-02 03:12:00</td>\n",
       "    </tr>\n",
       "    <tr>\n",
       "      <th>4</th>\n",
       "      <td>Целебные травы</td>\n",
       "      <td>3.90</td>\n",
       "      <td>1.367161</td>\n",
       "      <td>Анор Лондо</td>\n",
       "      <td>2216-01-02 05:33:00</td>\n",
       "    </tr>\n",
       "    <tr>\n",
       "      <th>...</th>\n",
       "      <td>...</td>\n",
       "      <td>...</td>\n",
       "      <td>...</td>\n",
       "      <td>...</td>\n",
       "      <td>...</td>\n",
       "    </tr>\n",
       "    <tr>\n",
       "      <th>875031</th>\n",
       "      <td>Эстус</td>\n",
       "      <td>9.28</td>\n",
       "      <td>1.079104</td>\n",
       "      <td>Фалькония</td>\n",
       "      <td>2218-09-27 14:50:00</td>\n",
       "    </tr>\n",
       "    <tr>\n",
       "      <th>875032</th>\n",
       "      <td>Эстус</td>\n",
       "      <td>9.28</td>\n",
       "      <td>1.580617</td>\n",
       "      <td>Фалькония</td>\n",
       "      <td>2218-09-27 06:16:00</td>\n",
       "    </tr>\n",
       "    <tr>\n",
       "      <th>875033</th>\n",
       "      <td>Эстус</td>\n",
       "      <td>9.28</td>\n",
       "      <td>1.738492</td>\n",
       "      <td>Фалькония</td>\n",
       "      <td>2218-09-27 11:14:00</td>\n",
       "    </tr>\n",
       "    <tr>\n",
       "      <th>875034</th>\n",
       "      <td>Эстус</td>\n",
       "      <td>9.28</td>\n",
       "      <td>0.430340</td>\n",
       "      <td>Фалькония</td>\n",
       "      <td>2218-09-27 22:24:00</td>\n",
       "    </tr>\n",
       "    <tr>\n",
       "      <th>875035</th>\n",
       "      <td>Эстус</td>\n",
       "      <td>9.28</td>\n",
       "      <td>0.090248</td>\n",
       "      <td>Фалькония</td>\n",
       "      <td>2218-09-27 17:50:00</td>\n",
       "    </tr>\n",
       "  </tbody>\n",
       "</table>\n",
       "<p>875036 rows × 5 columns</p>\n",
       "</div>"
      ],
      "text/plain": [
       "               product  price    amount       place            datetime\n",
       "0       Целебные травы   3.90  1.242125  Анор Лондо 2216-01-02 16:28:00\n",
       "1       Целебные травы   3.90 -0.079689  Анор Лондо 2216-01-02 16:21:00\n",
       "2       Целебные травы   3.90  0.882450  Анор Лондо 2216-01-02 03:03:00\n",
       "3       Целебные травы   3.90  0.621377  Анор Лондо 2216-01-02 03:12:00\n",
       "4       Целебные травы   3.90  1.367161  Анор Лондо 2216-01-02 05:33:00\n",
       "...                ...    ...       ...         ...                 ...\n",
       "875031           Эстус   9.28  1.079104   Фалькония 2218-09-27 14:50:00\n",
       "875032           Эстус   9.28  1.580617   Фалькония 2218-09-27 06:16:00\n",
       "875033           Эстус   9.28  1.738492   Фалькония 2218-09-27 11:14:00\n",
       "875034           Эстус   9.28  0.430340   Фалькония 2218-09-27 22:24:00\n",
       "875035           Эстус   9.28  0.090248   Фалькония 2218-09-27 17:50:00\n",
       "\n",
       "[875036 rows x 5 columns]"
      ]
     },
     "execution_count": 3,
     "metadata": {},
     "output_type": "execute_result"
    }
   ],
   "source": [
    "transaction"
   ]
  },
  {
   "cell_type": "markdown",
   "id": "f7a0975a-91c8-4bfc-9d35-4cf472aac112",
   "metadata": {},
   "source": [
    "готовим датасет"
   ]
  },
  {
   "cell_type": "code",
   "execution_count": 4,
   "id": "4999716a-b0d8-4ea5-96b7-7026c75e24b6",
   "metadata": {},
   "outputs": [],
   "source": [
    "place_transaction = transaction[transaction['place'].isna()==False].copy()#поэтому удаляю\n",
    "price_transaction_test_ = place_transaction[place_transaction['price']<0]#1 часть датафрейма\n",
    "price_transaction_train_ = place_transaction[place_transaction['price']>0]#2 часть датафрейма\n",
    "price_transaction_test = place_transaction[place_transaction['price']<0]#54321 строки нужно предсказать\n",
    "price_transaction_train = place_transaction[place_transaction['price']>0]#тренировочный датасет"
   ]
  },
  {
   "cell_type": "code",
   "execution_count": 5,
   "id": "fd5f45ff-26ce-4974-9320-73f1771d52d7",
   "metadata": {},
   "outputs": [],
   "source": [
    "mlflow.set_tracking_uri(\"http://192.168.56.117:5000\")#настраиваю сеть #можно складывать в единую базу данных типа \"sqlite:///mlflow.db\""
   ]
  },
  {
   "cell_type": "code",
   "execution_count": 6,
   "id": "06f4af9a-5aae-42f8-b5d4-2c95fa3715a8",
   "metadata": {},
   "outputs": [
    {
     "name": "stderr",
     "output_type": "stream",
     "text": [
      "2023/11/22 08:28:15 INFO mlflow.tracking.fluent: Experiment with name 'transaction_03' does not exist. Creating a new experiment.\n"
     ]
    },
    {
     "data": {
      "text/plain": [
       "<ActiveRun: >"
      ]
     },
     "execution_count": 6,
     "metadata": {},
     "output_type": "execute_result"
    }
   ],
   "source": [
    "mlflow.set_experiment(\"transaction_03\")#название всегда должно быть уникальным, даже если удалить его из UI\n",
    "mlflow.start_run()#запуск процесса"
   ]
  },
  {
   "cell_type": "code",
   "execution_count": 7,
   "id": "b7a4cedc-c2f1-4db3-af2d-8a726f31d85d",
   "metadata": {},
   "outputs": [],
   "source": [
    "#mlflow.end_run()#ЗАВЕРШИТЬ ПРОЦЕСС"
   ]
  },
  {
   "cell_type": "code",
   "execution_count": 8,
   "id": "c6ef7ae7-9631-4b62-8327-431f20841281",
   "metadata": {},
   "outputs": [
    {
     "data": {
      "text/html": [
       "<div>\n",
       "<style scoped>\n",
       "    .dataframe tbody tr th:only-of-type {\n",
       "        vertical-align: middle;\n",
       "    }\n",
       "\n",
       "    .dataframe tbody tr th {\n",
       "        vertical-align: top;\n",
       "    }\n",
       "\n",
       "    .dataframe thead th {\n",
       "        text-align: right;\n",
       "    }\n",
       "</style>\n",
       "<table border=\"1\" class=\"dataframe\">\n",
       "  <thead>\n",
       "    <tr style=\"text-align: right;\">\n",
       "      <th></th>\n",
       "      <th>product</th>\n",
       "      <th>price</th>\n",
       "      <th>amount</th>\n",
       "      <th>place</th>\n",
       "      <th>datetime</th>\n",
       "    </tr>\n",
       "  </thead>\n",
       "  <tbody>\n",
       "    <tr>\n",
       "      <th>0</th>\n",
       "      <td>Целебные травы</td>\n",
       "      <td>3.90</td>\n",
       "      <td>1.242125</td>\n",
       "      <td>Анор Лондо</td>\n",
       "      <td>2216-01-02 16:28:00</td>\n",
       "    </tr>\n",
       "    <tr>\n",
       "      <th>1</th>\n",
       "      <td>Целебные травы</td>\n",
       "      <td>3.90</td>\n",
       "      <td>-0.079689</td>\n",
       "      <td>Анор Лондо</td>\n",
       "      <td>2216-01-02 16:21:00</td>\n",
       "    </tr>\n",
       "    <tr>\n",
       "      <th>2</th>\n",
       "      <td>Целебные травы</td>\n",
       "      <td>3.90</td>\n",
       "      <td>0.882450</td>\n",
       "      <td>Анор Лондо</td>\n",
       "      <td>2216-01-02 03:03:00</td>\n",
       "    </tr>\n",
       "    <tr>\n",
       "      <th>3</th>\n",
       "      <td>Целебные травы</td>\n",
       "      <td>3.90</td>\n",
       "      <td>0.621377</td>\n",
       "      <td>Анор Лондо</td>\n",
       "      <td>2216-01-02 03:12:00</td>\n",
       "    </tr>\n",
       "    <tr>\n",
       "      <th>4</th>\n",
       "      <td>Целебные травы</td>\n",
       "      <td>3.90</td>\n",
       "      <td>1.367161</td>\n",
       "      <td>Анор Лондо</td>\n",
       "      <td>2216-01-02 05:33:00</td>\n",
       "    </tr>\n",
       "    <tr>\n",
       "      <th>...</th>\n",
       "      <td>...</td>\n",
       "      <td>...</td>\n",
       "      <td>...</td>\n",
       "      <td>...</td>\n",
       "      <td>...</td>\n",
       "    </tr>\n",
       "    <tr>\n",
       "      <th>875031</th>\n",
       "      <td>Эстус</td>\n",
       "      <td>9.28</td>\n",
       "      <td>1.079104</td>\n",
       "      <td>Фалькония</td>\n",
       "      <td>2218-09-27 14:50:00</td>\n",
       "    </tr>\n",
       "    <tr>\n",
       "      <th>875032</th>\n",
       "      <td>Эстус</td>\n",
       "      <td>9.28</td>\n",
       "      <td>1.580617</td>\n",
       "      <td>Фалькония</td>\n",
       "      <td>2218-09-27 06:16:00</td>\n",
       "    </tr>\n",
       "    <tr>\n",
       "      <th>875033</th>\n",
       "      <td>Эстус</td>\n",
       "      <td>9.28</td>\n",
       "      <td>1.738492</td>\n",
       "      <td>Фалькония</td>\n",
       "      <td>2218-09-27 11:14:00</td>\n",
       "    </tr>\n",
       "    <tr>\n",
       "      <th>875034</th>\n",
       "      <td>Эстус</td>\n",
       "      <td>9.28</td>\n",
       "      <td>0.430340</td>\n",
       "      <td>Фалькония</td>\n",
       "      <td>2218-09-27 22:24:00</td>\n",
       "    </tr>\n",
       "    <tr>\n",
       "      <th>875035</th>\n",
       "      <td>Эстус</td>\n",
       "      <td>9.28</td>\n",
       "      <td>0.090248</td>\n",
       "      <td>Фалькония</td>\n",
       "      <td>2218-09-27 17:50:00</td>\n",
       "    </tr>\n",
       "  </tbody>\n",
       "</table>\n",
       "<p>820316 rows × 5 columns</p>\n",
       "</div>"
      ],
      "text/plain": [
       "               product  price    amount       place            datetime\n",
       "0       Целебные травы   3.90  1.242125  Анор Лондо 2216-01-02 16:28:00\n",
       "1       Целебные травы   3.90 -0.079689  Анор Лондо 2216-01-02 16:21:00\n",
       "2       Целебные травы   3.90  0.882450  Анор Лондо 2216-01-02 03:03:00\n",
       "3       Целебные травы   3.90  0.621377  Анор Лондо 2216-01-02 03:12:00\n",
       "4       Целебные травы   3.90  1.367161  Анор Лондо 2216-01-02 05:33:00\n",
       "...                ...    ...       ...         ...                 ...\n",
       "875031           Эстус   9.28  1.079104   Фалькония 2218-09-27 14:50:00\n",
       "875032           Эстус   9.28  1.580617   Фалькония 2218-09-27 06:16:00\n",
       "875033           Эстус   9.28  1.738492   Фалькония 2218-09-27 11:14:00\n",
       "875034           Эстус   9.28  0.430340   Фалькония 2218-09-27 22:24:00\n",
       "875035           Эстус   9.28  0.090248   Фалькония 2218-09-27 17:50:00\n",
       "\n",
       "[820316 rows x 5 columns]"
      ]
     },
     "execution_count": 8,
     "metadata": {},
     "output_type": "execute_result"
    }
   ],
   "source": [
    "price_transaction_train"
   ]
  },
  {
   "cell_type": "code",
   "execution_count": 9,
   "id": "b4f56d8b-0dbb-4820-8383-2cd67ad02825",
   "metadata": {},
   "outputs": [
    {
     "name": "stderr",
     "output_type": "stream",
     "text": [
      "/tmp/ipykernel_167/879348289.py:1: SettingWithCopyWarning: \n",
      "A value is trying to be set on a copy of a slice from a DataFrame.\n",
      "Try using .loc[row_indexer,col_indexer] = value instead\n",
      "\n",
      "See the caveats in the documentation: https://pandas.pydata.org/pandas-docs/stable/user_guide/indexing.html#returning-a-view-versus-a-copy\n",
      "  price_transaction_train['datetime'] = pd.to_datetime(price_transaction_train['datetime'])\n",
      "/tmp/ipykernel_167/879348289.py:2: SettingWithCopyWarning: \n",
      "A value is trying to be set on a copy of a slice from a DataFrame.\n",
      "Try using .loc[row_indexer,col_indexer] = value instead\n",
      "\n",
      "See the caveats in the documentation: https://pandas.pydata.org/pandas-docs/stable/user_guide/indexing.html#returning-a-view-versus-a-copy\n",
      "  price_transaction_train['datetime_int'] = price_transaction_train['datetime'].astype(int)\n"
     ]
    }
   ],
   "source": [
    "price_transaction_train['datetime'] = pd.to_datetime(price_transaction_train['datetime'])\n",
    "price_transaction_train['datetime_int'] = price_transaction_train['datetime'].astype(int)"
   ]
  },
  {
   "cell_type": "code",
   "execution_count": 10,
   "id": "32cd6091-f98b-4fa2-8611-b3fa86bc8b51",
   "metadata": {},
   "outputs": [],
   "source": [
    "X = price_transaction_train.drop(['datetime','price'],axis=1)"
   ]
  },
  {
   "cell_type": "code",
   "execution_count": 11,
   "id": "f43167bf-8ac2-4de9-b7fc-e32c8cc72686",
   "metadata": {},
   "outputs": [
    {
     "data": {
      "text/html": [
       "<div>\n",
       "<style scoped>\n",
       "    .dataframe tbody tr th:only-of-type {\n",
       "        vertical-align: middle;\n",
       "    }\n",
       "\n",
       "    .dataframe tbody tr th {\n",
       "        vertical-align: top;\n",
       "    }\n",
       "\n",
       "    .dataframe thead th {\n",
       "        text-align: right;\n",
       "    }\n",
       "</style>\n",
       "<table border=\"1\" class=\"dataframe\">\n",
       "  <thead>\n",
       "    <tr style=\"text-align: right;\">\n",
       "      <th></th>\n",
       "      <th>product</th>\n",
       "      <th>amount</th>\n",
       "      <th>place</th>\n",
       "      <th>datetime_int</th>\n",
       "    </tr>\n",
       "  </thead>\n",
       "  <tbody>\n",
       "    <tr>\n",
       "      <th>0</th>\n",
       "      <td>Целебные травы</td>\n",
       "      <td>1.242125</td>\n",
       "      <td>Анор Лондо</td>\n",
       "      <td>7763099280000000</td>\n",
       "    </tr>\n",
       "    <tr>\n",
       "      <th>1</th>\n",
       "      <td>Целебные травы</td>\n",
       "      <td>-0.079689</td>\n",
       "      <td>Анор Лондо</td>\n",
       "      <td>7763098860000000</td>\n",
       "    </tr>\n",
       "    <tr>\n",
       "      <th>2</th>\n",
       "      <td>Целебные травы</td>\n",
       "      <td>0.882450</td>\n",
       "      <td>Анор Лондо</td>\n",
       "      <td>7763050980000000</td>\n",
       "    </tr>\n",
       "    <tr>\n",
       "      <th>3</th>\n",
       "      <td>Целебные травы</td>\n",
       "      <td>0.621377</td>\n",
       "      <td>Анор Лондо</td>\n",
       "      <td>7763051520000000</td>\n",
       "    </tr>\n",
       "    <tr>\n",
       "      <th>4</th>\n",
       "      <td>Целебные травы</td>\n",
       "      <td>1.367161</td>\n",
       "      <td>Анор Лондо</td>\n",
       "      <td>7763059980000000</td>\n",
       "    </tr>\n",
       "    <tr>\n",
       "      <th>...</th>\n",
       "      <td>...</td>\n",
       "      <td>...</td>\n",
       "      <td>...</td>\n",
       "      <td>...</td>\n",
       "    </tr>\n",
       "    <tr>\n",
       "      <th>875031</th>\n",
       "      <td>Эстус</td>\n",
       "      <td>1.079104</td>\n",
       "      <td>Фалькония</td>\n",
       "      <td>7849407000000000</td>\n",
       "    </tr>\n",
       "    <tr>\n",
       "      <th>875032</th>\n",
       "      <td>Эстус</td>\n",
       "      <td>1.580617</td>\n",
       "      <td>Фалькония</td>\n",
       "      <td>7849376160000000</td>\n",
       "    </tr>\n",
       "    <tr>\n",
       "      <th>875033</th>\n",
       "      <td>Эстус</td>\n",
       "      <td>1.738492</td>\n",
       "      <td>Фалькония</td>\n",
       "      <td>7849394040000000</td>\n",
       "    </tr>\n",
       "    <tr>\n",
       "      <th>875034</th>\n",
       "      <td>Эстус</td>\n",
       "      <td>0.430340</td>\n",
       "      <td>Фалькония</td>\n",
       "      <td>7849434240000000</td>\n",
       "    </tr>\n",
       "    <tr>\n",
       "      <th>875035</th>\n",
       "      <td>Эстус</td>\n",
       "      <td>0.090248</td>\n",
       "      <td>Фалькония</td>\n",
       "      <td>7849417800000000</td>\n",
       "    </tr>\n",
       "  </tbody>\n",
       "</table>\n",
       "<p>820316 rows × 4 columns</p>\n",
       "</div>"
      ],
      "text/plain": [
       "               product    amount       place      datetime_int\n",
       "0       Целебные травы  1.242125  Анор Лондо  7763099280000000\n",
       "1       Целебные травы -0.079689  Анор Лондо  7763098860000000\n",
       "2       Целебные травы  0.882450  Анор Лондо  7763050980000000\n",
       "3       Целебные травы  0.621377  Анор Лондо  7763051520000000\n",
       "4       Целебные травы  1.367161  Анор Лондо  7763059980000000\n",
       "...                ...       ...         ...               ...\n",
       "875031           Эстус  1.079104   Фалькония  7849407000000000\n",
       "875032           Эстус  1.580617   Фалькония  7849376160000000\n",
       "875033           Эстус  1.738492   Фалькония  7849394040000000\n",
       "875034           Эстус  0.430340   Фалькония  7849434240000000\n",
       "875035           Эстус  0.090248   Фалькония  7849417800000000\n",
       "\n",
       "[820316 rows x 4 columns]"
      ]
     },
     "execution_count": 11,
     "metadata": {},
     "output_type": "execute_result"
    }
   ],
   "source": [
    "X"
   ]
  },
  {
   "cell_type": "code",
   "execution_count": 18,
   "id": "d9a16ff0-0ddf-4dd3-a20d-f2161263b413",
   "metadata": {},
   "outputs": [],
   "source": [
    "#mlflow.sklearn.autolog(disable=True)#автологирование"
   ]
  },
  {
   "cell_type": "code",
   "execution_count": 12,
   "id": "40bfafef-a4bf-432d-8017-56f30a79b99e",
   "metadata": {},
   "outputs": [],
   "source": [
    "FEATURES = ['amount','datetime_int','place','product']\n",
    "CATEGORIAL_FEATURES = ['place','product']\n",
    "TARGET = ['price']"
   ]
  },
  {
   "cell_type": "code",
   "execution_count": 13,
   "id": "7828d725-e9f8-48b7-8512-8b97dad8d077",
   "metadata": {},
   "outputs": [
    {
     "data": {
      "text/plain": [
       "['price']"
      ]
     },
     "execution_count": 13,
     "metadata": {},
     "output_type": "execute_result"
    }
   ],
   "source": [
    "mlflow.log_param('features',FEATURES)#стиль vk https://youtu.be/1cI_bonO2Vo\n",
    "mlflow.log_param('categorial_features',CATEGORIAL_FEATURES) #ЕСЛИ ХОЧЕШЬ ПОМЕНЯТЬ значения в .log_param, завершай эксперимент и создавай новый\n",
    "mlflow.log_param('target',TARGET)"
   ]
  },
  {
   "attachments": {
    "3a156cdd-f291-4421-81db-60a21b8441bd.png": {
     "image/png": "[encoded data removed]"
    }
   },
   "cell_type": "markdown",
   "id": "c9f700fc-ba0e-4f12-814c-e20099e76b2e",
   "metadata": {},
   "source": [
    "![image.png](attachment:3a156cdd-f291-4421-81db-60a21b8441bd.png)"
   ]
  },
  {
   "cell_type": "code",
   "execution_count": 19,
   "id": "51d365c3-3cc9-47d6-8759-ca7fbb985fc5",
   "metadata": {},
   "outputs": [],
   "source": [
    "X = price_transaction_train[FEATURES]\n",
    "y = price_transaction_train[TARGET]"
   ]
  },
  {
   "cell_type": "code",
   "execution_count": 32,
   "id": "c758517b-76eb-48a1-9282-b2a6a7628627",
   "metadata": {},
   "outputs": [],
   "source": [
    "X = pd.get_dummies(X)"
   ]
  },
  {
   "cell_type": "code",
   "execution_count": 33,
   "id": "34ba588c-5fe9-4718-89a5-b30b83d7b3ac",
   "metadata": {},
   "outputs": [],
   "source": [
    "tscv = TimeSeriesSplit(n_splits=12)\n",
    "for fold,(train_index, val_index) in enumerate(tscv.split(X,y)):\n",
    "  X_train, X_val = X.iloc[train_index], X.iloc[val_index]\n",
    "  y_train, y_val = y.iloc[train_index], y.iloc[val_index]"
   ]
  },
  {
   "cell_type": "code",
   "execution_count": 21,
   "id": "0401253f-4fb7-4941-9ec4-32eb962d19af",
   "metadata": {},
   "outputs": [],
   "source": [
    "# Import the Pool class from catboost для grdisearch который я не люлю\n",
    "#from catboost import Pool\n",
    "#train_pool = Pool(X_train, y_train, cat_features = CATEGORIAL_FEATURES, feature_names=FEATURES)\n",
    "#test_pool = Pool(X_val, cat_features = CATEGORIAL_FEATURES)"
   ]
  },
  {
   "cell_type": "code",
   "execution_count": 47,
   "id": "7b968a63-abf9-4bb8-98ff-b2fa9a06ca5f",
   "metadata": {},
   "outputs": [],
   "source": [
    "modelR = CatBoostRegressor(eval_metric='SMAPE',random_seed=2,verbose =100)"
   ]
  },
  {
   "cell_type": "code",
   "execution_count": 42,
   "id": "52f013e0-04f8-46ce-a921-aead4772526d",
   "metadata": {},
   "outputs": [
    {
     "data": {
      "text/plain": [
       "catboost.core.CatBoostRegressor"
      ]
     },
     "execution_count": 42,
     "metadata": {},
     "output_type": "execute_result"
    }
   ],
   "source": [
    "mlflow.log_param('model_type',modelR.__class__)#добавит в paramets информацию об использованной модели"
   ]
  },
  {
   "cell_type": "code",
   "execution_count": 43,
   "id": "ac7ca050-5e14-4545-9ef9-be963d434a01",
   "metadata": {},
   "outputs": [],
   "source": [
    "mlflow.set_tags(tags = {\"auto_tracking\": \"false\", \"framework\": \"Catboost\"}) #любая дополнительная информация к эсперименту(тэги можно удалять и менять в самом mlflow)"
   ]
  },
  {
   "cell_type": "code",
   "execution_count": 50,
   "id": "0e61bf8b-5320-4f62-b960-c4ffa1bbab75",
   "metadata": {},
   "outputs": [
    {
     "name": "stdout",
     "output_type": "stream",
     "text": [
      "Learning rate set to 0.116707\n",
      "0:\tlearn: 35.8689618\ttotal: 141ms\tremaining: 2m 20s\n",
      "100:\tlearn: 1.8475247\ttotal: 7.49s\tremaining: 1m 6s\n",
      "200:\tlearn: 1.3784248\ttotal: 14.8s\tremaining: 58.9s\n",
      "300:\tlearn: 1.1686713\ttotal: 24.1s\tremaining: 56s\n",
      "400:\tlearn: 1.0317790\ttotal: 31.2s\tremaining: 46.6s\n",
      "500:\tlearn: 0.9445368\ttotal: 38.2s\tremaining: 38s\n",
      "600:\tlearn: 0.8759239\ttotal: 45.1s\tremaining: 29.9s\n",
      "700:\tlearn: 0.8213075\ttotal: 51.8s\tremaining: 22.1s\n",
      "800:\tlearn: 0.7717184\ttotal: 58.5s\tremaining: 14.5s\n",
      "900:\tlearn: 0.7319732\ttotal: 1m 5s\tremaining: 7.18s\n",
      "999:\tlearn: 0.6949668\ttotal: 1m 12s\tremaining: 0us\n"
     ]
    },
    {
     "data": {
      "text/plain": [
       "<catboost.core.CatBoostRegressor at 0x7fe8dfd46d10>"
      ]
     },
     "execution_count": 50,
     "metadata": {},
     "output_type": "execute_result"
    }
   ],
   "source": [
    "modelR.fit(X_train, y_train)"
   ]
  },
  {
   "cell_type": "code",
   "execution_count": 56,
   "id": "02a64e40-f142-4c89-850c-caae2d7f9f2e",
   "metadata": {},
   "outputs": [
    {
     "name": "stdout",
     "output_type": "stream",
     "text": [
      "sMAPE 0.0823\n",
      "mae 0.9516\n",
      "mse 1.4604\n"
     ]
    },
    {
     "name": "stderr",
     "output_type": "stream",
     "text": [
      "/opt/conda/lib/python3.11/site-packages/sktime/performance_metrics/forecasting/_classes.py:455: UserWarning: y_pred and y_true do not have the same row index. This may indicate incorrect objects passed to the metric. Indices of y_true will be used for y_pred.\n",
      "  warn(\n",
      "/opt/conda/lib/python3.11/site-packages/sktime/performance_metrics/forecasting/_classes.py:467: UserWarning: y_pred and y_true do not have the same column index. This may indicate incorrect objects passed to the metric. Indices of y_true will be used for y_pred.\n",
      "  warn(\n"
     ]
    }
   ],
   "source": [
    "score = modelR.predict(X_val)\n",
    "print('sMAPE', smape(y_val, score).round(4))\n",
    "print(\"mae\",mean_absolute_error(y_val, score).round(4))\n",
    "print(\"mse\", mean_squared_error(y_val, score).round(4))#сногсшибательные результаты"
   ]
  },
  {
   "cell_type": "code",
   "execution_count": 57,
   "id": "30d2e0b5-30c8-4477-98cb-0129657274b4",
   "metadata": {},
   "outputs": [
    {
     "name": "stdout",
     "output_type": "stream",
     "text": [
      "Learning rate set to 0.118192\n",
      "0:\tlearn: 34.0869525\ttotal: 109ms\tremaining: 1m 48s\n",
      "100:\tlearn: 1.8693974\ttotal: 8.23s\tremaining: 1m 13s\n",
      "200:\tlearn: 1.3958613\ttotal: 16.8s\tremaining: 1m 6s\n",
      "300:\tlearn: 1.1672838\ttotal: 25.5s\tremaining: 59.2s\n",
      "400:\tlearn: 1.0319904\ttotal: 33.7s\tremaining: 50.3s\n",
      "500:\tlearn: 0.9369105\ttotal: 41.7s\tremaining: 41.6s\n",
      "600:\tlearn: 0.8702509\ttotal: 50s\tremaining: 33.2s\n",
      "700:\tlearn: 0.8108338\ttotal: 57.9s\tremaining: 24.7s\n",
      "800:\tlearn: 0.7657197\ttotal: 1m 6s\tremaining: 16.4s\n",
      "900:\tlearn: 0.7230675\ttotal: 1m 14s\tremaining: 8.16s\n",
      "999:\tlearn: 0.6884819\ttotal: 1m 22s\tremaining: 0us\n"
     ]
    },
    {
     "data": {
      "text/plain": [
       "<catboost.core.CatBoostRegressor at 0x7fe8dfd46d10>"
      ]
     },
     "execution_count": 57,
     "metadata": {},
     "output_type": "execute_result"
    }
   ],
   "source": [
    "modelR.fit(X, y)"
   ]
  },
  {
   "cell_type": "code",
   "execution_count": null,
   "id": "e5950f56-f8bb-4f18-b37d-bef27ee37192",
   "metadata": {},
   "outputs": [],
   "source": [
    "#19 минута"
   ]
  },
  {
   "cell_type": "code",
   "execution_count": null,
   "id": "76c70fa4-ac27-485d-a196-2ddda22f8e1d",
   "metadata": {},
   "outputs": [],
   "source": []
  }
 ],
 "metadata": {
  "kernelspec": {
   "display_name": "Python 3 (ipykernel)",
   "language": "python",
   "name": "python3"
  },
  "language_info": {
   "codemirror_mode": {
    "name": "ipython",
    "version": 3
   },
   "file_extension": ".py",
   "mimetype": "text/x-python",
   "name": "python",
   "nbconvert_exporter": "python",
   "pygments_lexer": "ipython3",
   "version": "3.11.6"
  }
 },
 "nbformat": 4,
 "nbformat_minor": 5
}
